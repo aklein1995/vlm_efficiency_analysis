{
 "cells": [
  {
   "cell_type": "code",
   "execution_count": null,
   "metadata": {},
   "outputs": [],
   "source": [
    "from transformers import CLIPProcessor, CLIPModel\n",
    "from PIL import Image\n",
    "import requests\n",
    "import torch\n",
    "import numpy as np\n",
    "import time\n",
    "import cv2\n",
    "# add the following to avoid ssl issues from the server\n",
    "import ssl\n",
    "ssl._create_default_https_context = ssl._create_unverified_context"
   ]
  },
  {
   "cell_type": "code",
   "execution_count": null,
   "metadata": {},
   "outputs": [],
   "source": [
    "model = CLIPModel.from_pretrained(\"openai/clip-vit-base-patch32\")\n",
    "processor = CLIPProcessor.from_pretrained(\"openai/clip-vit-base-patch32\")"
   ]
  },
  {
   "cell_type": "code",
   "execution_count": 3,
   "metadata": {},
   "outputs": [
    {
     "data": {
      "text/plain": [
       "CLIPModel(\n",
       "  (text_model): CLIPTextTransformer(\n",
       "    (embeddings): CLIPTextEmbeddings(\n",
       "      (token_embedding): Embedding(49408, 512)\n",
       "      (position_embedding): Embedding(77, 512)\n",
       "    )\n",
       "    (encoder): CLIPEncoder(\n",
       "      (layers): ModuleList(\n",
       "        (0-11): 12 x CLIPEncoderLayer(\n",
       "          (self_attn): CLIPSdpaAttention(\n",
       "            (k_proj): Linear(in_features=512, out_features=512, bias=True)\n",
       "            (v_proj): Linear(in_features=512, out_features=512, bias=True)\n",
       "            (q_proj): Linear(in_features=512, out_features=512, bias=True)\n",
       "            (out_proj): Linear(in_features=512, out_features=512, bias=True)\n",
       "          )\n",
       "          (layer_norm1): LayerNorm((512,), eps=1e-05, elementwise_affine=True)\n",
       "          (mlp): CLIPMLP(\n",
       "            (activation_fn): QuickGELUActivation()\n",
       "            (fc1): Linear(in_features=512, out_features=2048, bias=True)\n",
       "            (fc2): Linear(in_features=2048, out_features=512, bias=True)\n",
       "          )\n",
       "          (layer_norm2): LayerNorm((512,), eps=1e-05, elementwise_affine=True)\n",
       "        )\n",
       "      )\n",
       "    )\n",
       "    (final_layer_norm): LayerNorm((512,), eps=1e-05, elementwise_affine=True)\n",
       "  )\n",
       "  (vision_model): CLIPVisionTransformer(\n",
       "    (embeddings): CLIPVisionEmbeddings(\n",
       "      (patch_embedding): Conv2d(3, 768, kernel_size=(32, 32), stride=(32, 32), bias=False)\n",
       "      (position_embedding): Embedding(50, 768)\n",
       "    )\n",
       "    (pre_layrnorm): LayerNorm((768,), eps=1e-05, elementwise_affine=True)\n",
       "    (encoder): CLIPEncoder(\n",
       "      (layers): ModuleList(\n",
       "        (0-11): 12 x CLIPEncoderLayer(\n",
       "          (self_attn): CLIPSdpaAttention(\n",
       "            (k_proj): Linear(in_features=768, out_features=768, bias=True)\n",
       "            (v_proj): Linear(in_features=768, out_features=768, bias=True)\n",
       "            (q_proj): Linear(in_features=768, out_features=768, bias=True)\n",
       "            (out_proj): Linear(in_features=768, out_features=768, bias=True)\n",
       "          )\n",
       "          (layer_norm1): LayerNorm((768,), eps=1e-05, elementwise_affine=True)\n",
       "          (mlp): CLIPMLP(\n",
       "            (activation_fn): QuickGELUActivation()\n",
       "            (fc1): Linear(in_features=768, out_features=3072, bias=True)\n",
       "            (fc2): Linear(in_features=3072, out_features=768, bias=True)\n",
       "          )\n",
       "          (layer_norm2): LayerNorm((768,), eps=1e-05, elementwise_affine=True)\n",
       "        )\n",
       "      )\n",
       "    )\n",
       "    (post_layernorm): LayerNorm((768,), eps=1e-05, elementwise_affine=True)\n",
       "  )\n",
       "  (visual_projection): Linear(in_features=768, out_features=512, bias=False)\n",
       "  (text_projection): Linear(in_features=512, out_features=512, bias=False)\n",
       ")"
      ]
     },
     "execution_count": 3,
     "metadata": {},
     "output_type": "execute_result"
    }
   ],
   "source": [
    "device = \"cuda:1\" if torch.cuda.is_available() else \"cpu\"\n",
    "model = model.to(device)\n",
    "model.eval()"
   ]
  },
  {
   "cell_type": "markdown",
   "metadata": {},
   "source": [
    "### Random image for internet of size 224x224"
   ]
  },
  {
   "cell_type": "code",
   "execution_count": 4,
   "metadata": {},
   "outputs": [],
   "source": [
    "# url = \"http://images.cocodataset.org/val2017/000000039769.jpg\"\n",
    "# image = Image.open(requests.get(url, stream=True).raw)\n",
    "image = np.random.randint(0, 256, (7, 7, 3), dtype=np.uint8) # Generate a random 7x7x3 image"
   ]
  },
  {
   "cell_type": "markdown",
   "metadata": {},
   "source": [
    "### Single image"
   ]
  },
  {
   "cell_type": "code",
   "execution_count": 5,
   "metadata": {},
   "outputs": [
    {
     "name": "stdout",
     "output_type": "stream",
     "text": [
      "Forward pass time for single image: 1.3584 seconds\n",
      "Processing time for single image: 0.0666 seconds\n",
      "\n",
      "Input single image shape: (7, 7, 3)\n",
      "Preprocessed single image shape: torch.Size([1, 3, 224, 224])\n",
      "Output single image features: torch.Size([1, 512])\n"
     ]
    }
   ],
   "source": [
    "# preprocess\n",
    "start_time_processing = time.time()\n",
    "inputs_single = processor(images=image, return_tensors=\"pt\")\n",
    "inputs_single = {k: v.to(device) for k, v in inputs_single.items()}\n",
    "elapsed_time_processing = time.time() - start_time_processing\n",
    "# forward pass\n",
    "start_time_single = time.time()\n",
    "with torch.no_grad():\n",
    "    image_features_single = model.get_image_features(**inputs_single)\n",
    "elapsed_time_single = time.time() - start_time_single\n",
    "\n",
    "print(f\"Forward pass time for single image: {elapsed_time_single:.4f} seconds\")\n",
    "print(f\"Processing time for single image: {elapsed_time_processing:.4f} seconds\")\n",
    "\n",
    "print()\n",
    "print('Input single image shape:', np.array(image).shape)\n",
    "print('Preprocessed single image shape:', inputs_single['pixel_values'].shape)\n",
    "print('Output single image features:', image_features_single.shape)"
   ]
  },
  {
   "cell_type": "markdown",
   "metadata": {},
   "source": [
    "### Batched image"
   ]
  },
  {
   "cell_type": "code",
   "execution_count": 6,
   "metadata": {},
   "outputs": [
    {
     "name": "stdout",
     "output_type": "stream",
     "text": [
      "Forward pass time for batch of 500 images: 0.3913 seconds\n",
      "Processing time for batch image: 2.7464 seconds\n",
      "\n",
      "Input single image shape: (7, 7, 3)\n",
      "Preprocessed batch image shape: torch.Size([500, 3, 224, 224])\n",
      "Output batch image features: torch.Size([500, 512])\n"
     ]
    }
   ],
   "source": [
    "# preprocess\n",
    "batch_size = 500\n",
    "images_batch = [image for _ in range(batch_size)]\n",
    "start_time_batch_processing = time.time()\n",
    "inputs_batch = processor(images=images_batch, return_tensors=\"pt\")\n",
    "inputs_batch = {k: v.to(device) for k, v in inputs_batch.items()}\n",
    "elapsed_time_batch_processing = time.time() - start_time_batch_processing\n",
    "# forward pass\n",
    "start_time_batch = time.time()\n",
    "with torch.no_grad():\n",
    "    image_features_batch = model.get_image_features(**inputs_batch)\n",
    "elapsed_time_batch = time.time() - start_time_batch\n",
    "\n",
    "print(f\"Forward pass time for batch of {batch_size} images: {elapsed_time_batch:.4f} seconds\")\n",
    "print(f\"Processing time for batch image: {elapsed_time_batch_processing:.4f} seconds\")\n",
    "\n",
    "print()\n",
    "print('Input single image shape:', np.array(image).shape)\n",
    "print('Preprocessed batch image shape:', inputs_batch['pixel_values'].shape)\n",
    "print('Output batch image features:', image_features_batch.shape)"
   ]
  },
  {
   "cell_type": "markdown",
   "metadata": {},
   "source": [
    "# With hand-crafted processing"
   ]
  },
  {
   "cell_type": "code",
   "execution_count": 7,
   "metadata": {},
   "outputs": [],
   "source": [
    "def processor_manual(images_np, device):\n",
    "    \"\"\"\n",
    "    Process a batch of images to be suitable for CLIP model input:\n",
    "    - Resize each image using nearest neighbor interpolation.\n",
    "    - Transpose each image from HWC to CHW.\n",
    "    - Convert the images to a PyTorch tensor.\n",
    "    - Move the tensor to the specified device.\n",
    "    - Prepare the dictionary expected by CLIP.\n",
    "    \n",
    "    Parameters:\n",
    "    - images_np (numpy.ndarray): The batch of images in BHWC format.\n",
    "    - device (str): The device to which the tensor will be moved ('cuda:0', 'cuda:1', 'cpu', etc.).\n",
    "    \n",
    "    Returns:\n",
    "    - dict: A dictionary with the tensor ready to be input into CLIP.\n",
    "    \"\"\"\n",
    "    # Initialize an empty list to hold processed images\n",
    "    processed_images = []\n",
    "\n",
    "    # Iterate over each image in the batch\n",
    "    for image_np in images_np:\n",
    "        # Resize the image\n",
    "        resized_image = cv2.resize(image_np, (224, 224), interpolation=cv2.INTER_NEAREST)\n",
    "        \n",
    "        # Transpose the image from HWC to CHW\n",
    "        transposed_image = np.transpose(resized_image, (2, 0, 1))\n",
    "        \n",
    "        # Append the processed image to the list\n",
    "        processed_images.append(transposed_image)\n",
    "\n",
    "    stacked_images = np.stack(processed_images, axis=0)  # Stack along a new first dimension\n",
    "    # Convert the numpy array to a torch tensor\n",
    "    tensor = torch.from_numpy(stacked_images).float()\n",
    "\n",
    "    # Move the tensor to the specified device\n",
    "    tensor = tensor.to(device)\n",
    "    \n",
    "    # Prepare the dictionary for CLIP\n",
    "    inputs_batch = {'pixel_values': tensor}\n",
    "    \n",
    "    return inputs_batch"
   ]
  },
  {
   "cell_type": "markdown",
   "metadata": {},
   "source": [
    "### Single"
   ]
  },
  {
   "cell_type": "code",
   "execution_count": 8,
   "metadata": {},
   "outputs": [
    {
     "name": "stdout",
     "output_type": "stream",
     "text": [
      "Forward pass time for single image: 0.2541 seconds\n",
      "Processing time for single image: 0.0218 seconds\n",
      "\n",
      "Input single image shape: (7, 7, 3)\n",
      "Preprocessed single image shape: torch.Size([1, 3, 224, 224])\n",
      "Output single image features: torch.Size([1, 512])\n"
     ]
    }
   ],
   "source": [
    "# preprocess\n",
    "start_time_processing = time.time()\n",
    "inputs_single = processor_manual([np.array(image)], device)\n",
    "elapsed_time_processing = time.time() - start_time_processing\n",
    "# forward pass\n",
    "start_time_single = time.time()\n",
    "with torch.no_grad():\n",
    "    image_features_single = model.get_image_features(**inputs_single)\n",
    "elapsed_time_single = time.time() - start_time_single\n",
    "\n",
    "print(f\"Forward pass time for single image: {elapsed_time_single:.4f} seconds\")\n",
    "print(f\"Processing time for single image: {elapsed_time_processing:.4f} seconds\")\n",
    "\n",
    "print()\n",
    "print('Input single image shape:', np.array(image).shape)\n",
    "print('Preprocessed single image shape:', inputs_single['pixel_values'].shape)\n",
    "print('Output single image features:', image_features_single.shape)"
   ]
  },
  {
   "cell_type": "markdown",
   "metadata": {},
   "source": [
    "### Batch"
   ]
  },
  {
   "cell_type": "code",
   "execution_count": 17,
   "metadata": {},
   "outputs": [
    {
     "name": "stdout",
     "output_type": "stream",
     "text": [
      "Forward pass time for batch of 3000 images: 0.0117 seconds\n",
      "Processing time for batch image: 1.4068 seconds\n",
      "\n",
      "Input single image shape: (4000, 7, 7, 3)\n",
      "Preprocessed batch image shape: torch.Size([3000, 3, 224, 224])\n",
      "Output batch image features: torch.Size([3000, 512])\n"
     ]
    }
   ],
   "source": [
    "# preprocess\n",
    "batch_size = 3000\n",
    "# images_batch = [np.array(image) for _ in range(batch_size)]\n",
    "images_batch = np.random.randint(0, 256, (batch_size, 7, 7, 3), dtype=np.uint8) # Generate a random 7x7x3 image\n",
    "start_time_batch_processing = time.time()\n",
    "inputs_batch = processor_manual(images_batch, device)\n",
    "elapsed_time_batch_processing = time.time() - start_time_batch_processing\n",
    "# forward pass\n",
    "start_time_batch = time.time()\n",
    "with torch.no_grad():\n",
    "    image_features_batch = model.get_image_features(**inputs_batch)\n",
    "elapsed_time_batch = time.time() - start_time_batch\n",
    "\n",
    "print(f\"Forward pass time for batch of {batch_size} images: {elapsed_time_batch:.4f} seconds\")\n",
    "print(f\"Processing time for batch image: {elapsed_time_batch_processing:.4f} seconds\")\n",
    "\n",
    "print()\n",
    "print('Input single image shape:', np.array(image).shape)\n",
    "print('Preprocessed batch image shape:', inputs_batch['pixel_values'].shape)\n",
    "print('Output batch image features:', image_features_batch.shape)"
   ]
  },
  {
   "cell_type": "code",
   "execution_count": null,
   "metadata": {},
   "outputs": [],
   "source": []
  }
 ],
 "metadata": {
  "kernelspec": {
   "display_name": ".venv",
   "language": "python",
   "name": "python3"
  },
  "language_info": {
   "codemirror_mode": {
    "name": "ipython",
    "version": 3
   },
   "file_extension": ".py",
   "mimetype": "text/x-python",
   "name": "python",
   "nbconvert_exporter": "python",
   "pygments_lexer": "ipython3",
   "version": "3.10.9"
  }
 },
 "nbformat": 4,
 "nbformat_minor": 2
}
